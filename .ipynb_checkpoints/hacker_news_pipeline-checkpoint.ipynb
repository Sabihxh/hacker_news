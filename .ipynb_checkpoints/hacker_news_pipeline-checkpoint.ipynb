{
 "cells": [
  {
   "cell_type": "markdown",
   "metadata": {},
   "source": [
    "### Top 100 keywords of Hacker News posts in 2014"
   ]
  },
  {
   "cell_type": "code",
   "execution_count": 13,
   "metadata": {},
   "outputs": [],
   "source": [
    "import csv\n",
    "from datetime import datetime\n",
    "import io\n",
    "import json\n",
    "from stop_words import stop_words\n",
    "import string\n",
    "\n",
    "from pipeline import Pipeline\n",
    "from pipeline import build_csv"
   ]
  },
  {
   "cell_type": "code",
   "execution_count": 14,
   "metadata": {},
   "outputs": [],
   "source": [
    "pipeline = Pipeline()"
   ]
  },
  {
   "cell_type": "code",
   "execution_count": 15,
   "metadata": {},
   "outputs": [],
   "source": [
    "@pipeline.task()\n",
    "def file_to_json():\n",
    "    result = []\n",
    "    data = open('hn_stories_2014.json').read()\n",
    "    data = json.loads(data)\n",
    "    if 'stories' in data.keys():\n",
    "        result = data['stories']\n",
    "    return result"
   ]
  },
  {
   "cell_type": "code",
   "execution_count": 16,
   "metadata": {},
   "outputs": [],
   "source": [
    "@pipeline.task(depends_on=file_to_json)\n",
    "def filter_stories(data):\n",
    "    for row in data:\n",
    "        if (\n",
    "            (not row['title'].startswith('Ask HN'))\n",
    "            and \n",
    "            (row['points'] > 50)\n",
    "            and\n",
    "            (row['num_comments'] > 1)\n",
    "           ):\n",
    "            yield row"
   ]
  },
  {
   "cell_type": "code",
   "execution_count": 17,
   "metadata": {},
   "outputs": [],
   "source": [
    "@pipeline.task(depends_on=filter_stories)\n",
    "def json_to_csv(data):\n",
    "    header = ['objectID', 'created_at', 'url', 'points', 'title']\n",
    "    lines = []\n",
    "    for row in data:\n",
    "        lines.append(\n",
    "            (\n",
    "            row['objectID'],\n",
    "            datetime.strptime(row['created_at'][:10], '%Y-%m-%d'),\n",
    "            row['url'],\n",
    "            row['points'],\n",
    "            row['title'],\n",
    "            )\n",
    "        )\n",
    "    return build_csv(\n",
    "        lines,\n",
    "        header=header,\n",
    "        file=io.StringIO()\n",
    "    )"
   ]
  },
  {
   "cell_type": "code",
   "execution_count": 18,
   "metadata": {},
   "outputs": [],
   "source": [
    "@pipeline.task(depends_on=json_to_csv)\n",
    "def extract_titles(file_obj):\n",
    "    for row in csv.reader(file_obj):\n",
    "        yield row[4]"
   ]
  },
  {
   "cell_type": "code",
   "execution_count": 19,
   "metadata": {},
   "outputs": [],
   "source": [
    "@pipeline.task(depends_on=extract_titles)\n",
    "def clean_titles(titles):\n",
    "    \"\"\"\n",
    "    Generator of titles (lowercased and punctuations removed)\n",
    "    \"\"\"\n",
    "    for title in titles:\n",
    "        for char in string.punctuation:\n",
    "            title = title.replace(char, '')\n",
    "        yield title.lower()"
   ]
  },
  {
   "cell_type": "code",
   "execution_count": 20,
   "metadata": {},
   "outputs": [],
   "source": [
    "@pipeline.task(depends_on=clean_titles)\n",
    "def build_keyword_dictionary(titles):\n",
    "    \"\"\"\n",
    "    Returns keyword dictionary excluding stop words\n",
    "    \"\"\"\n",
    "    result = {}\n",
    "    for title in titles:\n",
    "        words = title.split(' ')\n",
    "        for word in words:\n",
    "            if not word or word in stop_words:\n",
    "                continue\n",
    "            if word not in result:\n",
    "                result[word] = 0\n",
    "            result[word] += 1\n",
    "    return result"
   ]
  },
  {
   "cell_type": "code",
   "execution_count": 21,
   "metadata": {},
   "outputs": [],
   "source": [
    "@pipeline.task(depends_on=build_keyword_dictionary)\n",
    "def sort_keywords(keyword_dict):\n",
    "    \"\"\"\n",
    "    Returns list of tuples sorted by frequency\n",
    "    \"\"\"\n",
    "    popular_words = sorted(keyword_dict, key=lambda x: keyword_dict[x], reverse=True)[:100]\n",
    "    return [(x, keyword_dict[x]) for x in popular_words]"
   ]
  },
  {
   "cell_type": "code",
   "execution_count": 35,
   "metadata": {},
   "outputs": [],
   "source": [
    "def main():\n",
    "    result = pipeline.run()\n",
    "    keywords_dict = result[list(result.keys())[-1]]\n",
    "    print('Top 100 keywords of Hacker News posts in 2014:\\n')\n",
    "    for word, freq in keywords_dict:\n",
    "        print('{}: {}'.format(word, freq))"
   ]
  },
  {
   "cell_type": "code",
   "execution_count": 36,
   "metadata": {},
   "outputs": [
    {
     "name": "stdout",
     "output_type": "stream",
     "text": [
      "Top 100 keywords of Hacker News posts in 2014:\n",
      "\n",
      "new: 185\n",
      "google: 167\n",
      "bitcoin: 101\n",
      "open: 92\n",
      "programming: 90\n",
      "web: 88\n",
      "data: 85\n",
      "video: 79\n",
      "python: 75\n",
      "code: 72\n",
      "facebook: 71\n",
      "released: 71\n",
      "using: 70\n",
      "2013: 65\n",
      "javascript: 65\n",
      "free: 64\n",
      "source: 64\n",
      "game: 63\n",
      "internet: 62\n",
      "microsoft: 59\n",
      "c: 59\n",
      "linux: 58\n",
      "app: 57\n",
      "pdf: 55\n",
      "work: 54\n",
      "language: 54\n",
      "software: 52\n",
      "2014: 52\n",
      "startup: 51\n",
      "apple: 50\n",
      "use: 50\n",
      "make: 50\n",
      "time: 48\n",
      "yc: 48\n",
      "security: 48\n",
      "nsa: 45\n",
      "github: 45\n",
      "windows: 44\n",
      "world: 41\n",
      "way: 41\n",
      "like: 41\n",
      "1: 40\n",
      "project: 40\n",
      "computer: 40\n",
      "heartbleed: 40\n",
      "git: 37\n",
      "users: 37\n",
      "dont: 37\n",
      "design: 37\n",
      "ios: 37\n",
      "developer: 36\n",
      "os: 36\n",
      "twitter: 36\n",
      "ceo: 36\n",
      "vs: 36\n",
      "life: 36\n",
      "big: 35\n",
      "day: 35\n",
      "android: 34\n",
      "online: 34\n",
      "years: 33\n",
      "simple: 33\n",
      "court: 33\n",
      "guide: 32\n",
      "learning: 32\n",
      "mt: 32\n",
      "api: 32\n",
      "says: 32\n",
      "apps: 32\n",
      "browser: 32\n",
      "server: 31\n",
      "firefox: 31\n",
      "fast: 31\n",
      "gox: 31\n",
      "problem: 31\n",
      "mozilla: 31\n",
      "engine: 31\n",
      "site: 31\n",
      "introducing: 30\n",
      "amazon: 30\n",
      "year: 30\n",
      "support: 29\n",
      "stop: 29\n",
      "built: 29\n",
      "better: 29\n",
      "million: 29\n",
      "people: 29\n",
      "text: 29\n",
      "3: 28\n",
      "does: 28\n",
      "tech: 28\n",
      "development: 28\n",
      "billion: 27\n",
      "developers: 27\n",
      "just: 27\n",
      "library: 27\n",
      "did: 27\n",
      "website: 27\n",
      "money: 27\n",
      "inside: 27\n"
     ]
    }
   ],
   "source": [
    "main()"
   ]
  },
  {
   "cell_type": "code",
   "execution_count": null,
   "metadata": {},
   "outputs": [],
   "source": []
  }
 ],
 "metadata": {
  "anaconda-cloud": {},
  "kernelspec": {
   "display_name": "Python 3",
   "language": "python",
   "name": "python3"
  },
  "language_info": {
   "codemirror_mode": {
    "name": "ipython",
    "version": 3
   },
   "file_extension": ".py",
   "mimetype": "text/x-python",
   "name": "python",
   "nbconvert_exporter": "python",
   "pygments_lexer": "ipython3",
   "version": "3.6.5"
  }
 },
 "nbformat": 4,
 "nbformat_minor": 1
}
